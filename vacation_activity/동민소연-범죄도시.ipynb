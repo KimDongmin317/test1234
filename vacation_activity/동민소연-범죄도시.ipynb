{
  "cells": [
    {
      "cell_type": "code",
      "execution_count": null,
      "metadata": {
        "id": "8e3BlD-i0gn6"
      },
      "outputs": [],
      "source": [
        "\"\"\"\n",
        "안녕하세요.!\n",
        "\n",
        "오늘 해 볼 과제는 함수 만들기에요!\n",
        "\n",
        "유튜브나, 구글링 하면 파이썬 함수 만들기에 대한 설명이 많이 있으니까\n",
        "\n",
        "먼저 보고 오신 후에 과제를 수행해도 좋습니다!\n",
        "\n",
        "그러면 강의 및 설명을 보고 왔지만, 자세히 이해가 안될 수도 있기에 간단하게 예시를 들어가면서\n",
        "\n",
        "과제를 진행해볼게요\n",
        "\n",
        "집중 뽞!!!\n",
        "\"\"\""
      ]
    },
    {
      "cell_type": "code",
      "execution_count": null,
      "metadata": {
        "id": "ERkfzGXj009P"
      },
      "outputs": [],
      "source": [
        "\"\"\"\n",
        "\n",
        "함수란? \n",
        "\n",
        "f(x) = x^2 + x + ...\n",
        "\n",
        "이렇게 변수를 넣으면 값이 나오는 것이라고 하죠?\n",
        "\n",
        "그렇다면 파이썬에서 함수는?\n",
        "\n",
        "\n",
        "네 그렇죠!\n",
        "\n",
        "\n",
        "특정 행동을 하면 그에 대한 결과를 return or 출력해 주는 것이 바로 파이썬 함수에요!\n",
        "\n",
        "그러면 선언 어떻게 한다고 했죠?\n",
        "\n",
        "def 로 하는거죠\n",
        "\n",
        "간단하게 def로 a, b를 받아 대소비교 하는 함수를 구현해볼게요\n",
        "\n",
        "\"\"\""
      ]
    },
    {
      "cell_type": "code",
      "execution_count": 1,
      "metadata": {
        "colab": {
          "base_uri": "https://localhost:8080/"
        },
        "id": "xKjvOeC31Qje",
        "outputId": "fd619b31-2f43-4bb9-b22c-cbf5749297f2"
      },
      "outputs": [
        {
          "name": "stdout",
          "output_type": "stream",
          "text": [
            "a < b\n"
          ]
        }
      ],
      "source": [
        "def test(a, b):\n",
        "  if a > b:\n",
        "    print(\"a > b\")\n",
        "  elif a < b:\n",
        "    print(\"a < b\")\n",
        "  else:\n",
        "    print(\"a = b\")\n",
        "\n",
        "  \n",
        "test(5, 10)"
      ]
    },
    {
      "cell_type": "code",
      "execution_count": null,
      "metadata": {
        "id": "EaiGCl0-1f9e"
      },
      "outputs": [],
      "source": [
        "\"\"\"\n",
        "요렇게 구성되는 방식이에요\n",
        "def 함수명():\n",
        "  내용 ~\n",
        "  반환할거면 return\n",
        "  출력만 할거면 print\n",
        "\n",
        "\n",
        "그렇다면 반환과 출력의 차이는 뭘까요?\n",
        "\n",
        "네 맞아요!\n",
        "출력은 1회용이고 반환은 함수를 통해 구현된 것을 저장하기 위함이에요\n",
        "\n",
        "예시를 보죠\n",
        "\"\"\""
      ]
    },
    {
      "cell_type": "code",
      "execution_count": 1,
      "metadata": {
        "colab": {
          "base_uri": "https://localhost:8080/"
        },
        "id": "HWdCA5AE100q",
        "outputId": "ad8ca37d-1e40-49e4-d260-d63e0eef2b39"
      },
      "outputs": [
        {
          "name": "stdout",
          "output_type": "stream",
          "text": [
            "출력함수\n"
          ]
        }
      ],
      "source": [
        "# 출력\n",
        "\n",
        "def test2():\n",
        "  print(\"출력함수\")\n",
        "\n",
        "test2()"
      ]
    },
    {
      "cell_type": "code",
      "execution_count": 2,
      "metadata": {
        "colab": {
          "base_uri": "https://localhost:8080/"
        },
        "id": "jlYBBufR2Tjc",
        "outputId": "006027f4-a5dd-4320-fc06-ed9817e6f2e5"
      },
      "outputs": [
        {
          "name": "stdout",
          "output_type": "stream",
          "text": [
            "Return 함수\n"
          ]
        }
      ],
      "source": [
        "# 리턴함수:\n",
        "\n",
        "def test3():\n",
        "  return \"Return 함수\"\n",
        "\n",
        "result = test3()\n",
        "\n",
        "print(result)"
      ]
    },
    {
      "cell_type": "code",
      "execution_count": null,
      "metadata": {
        "id": "UAHtg1FK2B4z"
      },
      "outputs": [],
      "source": [
        "\"\"\"\n",
        "두 함수의 차이는 뭐냐면 바로 아까 위에서 말했던 것처럼 \n",
        "출력만 하고 끝내느냐 아니면 리턴을 받은 값으로 새로운 변수를 만드냐(할당하냐) 차이인 거에요!\n",
        "\n",
        "요거 이해했으면 함수 다아는 겁니다 ㅎ\n",
        "\n",
        "\n",
        "여러 가지 변수를 할당하는 내용들이 많은데 스킵하고 간단한 과제만 진행해볼게요\n",
        "\n",
        "\n",
        "\n",
        "함수를 활용한 범죄도시 입니당\n",
        "\n",
        "동석이형이 장첸을 잡을 수 있도록 \n",
        "\n",
        "'Ma_Dongseok' 함수를 만들어주세여\n",
        "\n",
        "\n",
        "입력은 다음과 같이 주어질 겁니다.\n",
        "\n",
        "다양한 인물들이 입력으로 들어올 겁니다 장이수 진선규 장첸 등\n",
        "\n",
        "그 중에서 장첸이 입력이 되면 \"혼자야? \", \"어, 아직 싱글이야\" 출력과 함께 for문이 종료되고 \n",
        "장첸이 나온 순서가 반환되도록 구성해주세요\n",
        "혹시 장첸이 출력되기 전에 장이수가 먼저 나오면, \n",
        "\"내 임다, 우리 아~가 시키지도 않은 짓 한 검다!\" 대사를 출력해주세요\n",
        "\n",
        "\n",
        "출력 예시 1\n",
        "장첸: \"혼자야?\"\n",
        "마동석: \"어, 아직 싱글이야\"\n",
        "\n",
        "출력 예시 2\n",
        "장이수: \"내 임다, 우리 아~가 시키지도 않은 짓 한 검다!\"\n",
        "장첸: \"혼자야?\"\n",
        "마동석: \"어, 아직 싱글이야\"\n",
        "\n",
        "\"\"\"\n",
        "\n"
      ]
    },
    {
      "cell_type": "code",
      "execution_count": null,
      "metadata": {
        "id": "IHNPP_Rn2fJ_"
      },
      "outputs": [],
      "source": [
        "\"\"\"\n",
        "input_list에서 Jang Chen이 입력되면 for문을 빠져나온 후, 장첸이 나온 순서 번호가 return 되도록 해보세요!\n",
        "순서는 맨 처음에 나오면 1번입니다\n",
        "\n",
        "(이미 밑에 return num을 넣어놨으니 num값이 나오도록 하는 함수를 만드시면 됩니다.)\n",
        "밑에다가 코드를 작성해보세요!\n",
        "\n",
        "결과는 랜덤 때문에 다르게 나올 수도 있어요 ~\n",
        "정답 밑에 작성하신 함수의 return값이 정답이 맞는지 확인해놓는 코드 넣어놨으니 틀렸다면 어느 부분이 틀렸는지 확인해보세요!\n",
        "\n",
        "혹시 정답이 맞았다면 break를 써봤는지 안 써봤다면 break가 뭔지 한번 고민해봐요!\n",
        "그리고 print문이 잘 출력되었는지도 확인해보세요!\n",
        "\"\"\"\n"
      ]
    },
    {
      "cell_type": "code",
      "execution_count": 32,
      "metadata": {
        "id": "5MQcOg7k-CHM"
      },
      "outputs": [],
      "source": [
        "import random\n",
        "\n",
        "random.seed = 41\n",
        "\n",
        "# 코드에 입력된 값이 무엇인지? 어떤 코드를 의미하는지 한번 고민해보세요! 어려우면 패스!\n",
        "input_list = ['Jin Seongyu', 'Jang Isu', 'Jang Chen', *[chr(random.randint(65, 90)) for _ in range(100)]]\n",
        "random.shuffle(input_list)\n",
        "\n",
        "def Ma_Dongseok(input_list):\n",
        "  print(\"마동석은 화장실에서 장첸을 기다린다.\\n장첸은 옷을 갈아입고 도주 준비를 한다\")\n",
        "  num = 0\n",
        "\n",
        "  index = 0\n",
        "\n",
        "  for i in input_list:\n",
        "    if (i == 'Jang Chen'):\n",
        "      print(\"\"\"\n",
        "            장첸: \"혼자야?\"\n",
        "            마동석: \"어, 아직 싱글이야\"\n",
        "            \"\"\")\n",
        "      index += 1\n",
        "    \n",
        "    num = index\n",
        "    \n",
        "      break\n",
        "      \n",
        "    elif (i == 'Jang Isu'):\n",
        "      print(\"\"\"\n",
        "            장이수: \"내 임다, 우리 아~가 시키지도 않은 짓 한 검다!\"\n",
        "            \"\"\")\n",
        "      index += 1\n",
        "      \n",
        "    else:\n",
        "      index += 1\n",
        "    \n",
        "\n",
        "  return num"
      ]
    },
    {
      "cell_type": "code",
      "execution_count": 33,
      "metadata": {
        "colab": {
          "base_uri": "https://localhost:8080/"
        },
        "id": "psl_6Lbg5pQb",
        "outputId": "e36b37df-7e75-4347-b732-00b5b7ce00d6"
      },
      "outputs": [
        {
          "name": "stdout",
          "output_type": "stream",
          "text": [
            "마동석은 화장실에서 장첸을 기다린다.\n",
            "장첸은 옷을 갈아입고 도주 준비를 한다\n",
            "장이수: \"내 임다, 우리 아~가 시키지도 않은 짓 한 검다!\"\n",
            "장첸: \"혼자야?\"\n",
            "마동석: \"어, 아직 싱글이야\"\n",
            "101 \n",
            "\n",
            "\n",
            "마동석은 화장실에서 장첸을 기다린다.\n",
            "장첸은 옷을 갈아입고 도주 준비를 한다\n",
            "장이수: \"내 임다, 우리 아~가 시키지도 않은 짓 한 검다!\"\n",
            "장첸: \"혼자야?\"\n",
            "마동석: \"어, 아직 싱글이야\"\n",
            "101\n"
          ]
        }
      ],
      "source": [
        "\"\"\"\n",
        "정답은 아래를 활용하세요!\n",
        "\n",
        "최대한 해결 해보신 후에 확인하세요\n",
        "\n",
        "\"\"\"\n",
        "\n",
        "\n",
        "# 답 1\n",
        "def Ma_Dongseok1(input_list):\n",
        "  print(\"마동석은 화장실에서 장첸을 기다린다.\\n장첸은 옷을 갈아입고 도주 준비를 한다\")\n",
        "  num = 0\n",
        "\n",
        "  for name in input_list:\n",
        "    num += 1\n",
        "    if name == \"Jang Isu\":\n",
        "      print('장이수: \"내 임다, 우리 아~가 시키지도 않은 짓 한 검다!\"')\n",
        "    if name == \"Jang Chen\":\n",
        "      print('장첸: \"혼자야?\"')\n",
        "      print('마동석: \"어, 아직 싱글이야\"')\n",
        "      break\n",
        "  return num\n",
        "\n",
        "result1 = Ma_Dongseok1(input_list)\n",
        "\n",
        "print(result1,'\\n\\n')\n",
        "# 답 2\n",
        "\n",
        "def Ma_Dongseok2(input_list):\n",
        "  print(\"마동석은 화장실에서 장첸을 기다린다.\\n장첸은 옷을 갈아입고 도주 준비를 한다\")\n",
        "  num = 0\n",
        "\n",
        "  for idx, name in enumerate(input_list):\n",
        "    if name == \"Jang Isu\":\n",
        "      print('장이수: \"내 임다, 우리 아~가 시키지도 않은 짓 한 검다!\"')\n",
        "    if name == \"Jang Chen\":\n",
        "      num = idx + 1\n",
        "      print('장첸: \"혼자야?\"')\n",
        "      print('마동석: \"어, 아직 싱글이야\"')\n",
        "      break\n",
        "\n",
        "  return num\n",
        "\n",
        "\n",
        "result2 = Ma_Dongseok2(input_list)\n",
        "\n",
        "print(result2)"
      ]
    },
    {
      "cell_type": "code",
      "execution_count": 34,
      "metadata": {
        "colab": {
          "base_uri": "https://localhost:8080/"
        },
        "id": "YHODaG0s9N0D",
        "outputId": "7668510f-fad0-490b-baaa-15f98300f0c8"
      },
      "outputs": [
        {
          "name": "stdout",
          "output_type": "stream",
          "text": [
            "마동석은 화장실에서 장첸을 기다린다.\n",
            "장첸은 옷을 갈아입고 도주 준비를 한다\n",
            "\n",
            "\n",
            "\n",
            "마동석은 화장실에서 장첸을 기다린다.\n",
            "장첸은 옷을 갈아입고 도주 준비를 한다\n",
            "장이수: \"내 임다, 우리 아~가 시키지도 않은 짓 한 검다!\"\n",
            "장첸: \"혼자야?\"\n",
            "마동석: \"어, 아직 싱글이야\"\n",
            "\n",
            "\n",
            "\n",
            "틀렸습니다. 다시해봐요!\n"
          ]
        }
      ],
      "source": [
        "result = Ma_Dongseok(input_list)\n",
        "print('\\n\\n')\n",
        "result1 = Ma_Dongseok1(input_list)\n",
        "\n",
        "print(\"\\n\\n\")\n",
        "if result != result1:\n",
        "  print(\"틀렸습니다. 다시해봐요!\")\n",
        "\n",
        "else:\n",
        "  print(\"역시 World Class 정답입니다\")"
      ]
    }
  ],
  "metadata": {
    "colab": {
      "collapsed_sections": [],
      "name": "범죄도시.ipynb",
      "provenance": []
    },
    "kernelspec": {
      "display_name": "Python 3",
      "name": "python3"
    },
    "language_info": {
      "name": "python"
    }
  },
  "nbformat": 4,
  "nbformat_minor": 0
}
